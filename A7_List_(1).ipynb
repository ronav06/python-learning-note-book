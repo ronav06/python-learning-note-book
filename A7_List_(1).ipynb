{
  "cells": [
    {
      "cell_type": "markdown",
      "metadata": {
        "id": "view-in-github",
        "colab_type": "text"
      },
      "source": [
        "<a href=\"https://colab.research.google.com/github/ronav06/python-learning-note-book/blob/main/A7_List_(1).ipynb\" target=\"_parent\"><img src=\"https://colab.research.google.com/assets/colab-badge.svg\" alt=\"Open In Colab\"/></a>"
      ]
    },
    {
      "cell_type": "markdown",
      "id": "087258e1",
      "metadata": {
        "deletable": false,
        "editable": false,
        "id": "087258e1"
      },
      "source": [
        "![c4.PNG](attachment:c4.PNG)"
      ]
    },
    {
      "cell_type": "markdown",
      "id": "9115df50",
      "metadata": {
        "deletable": false,
        "editable": false,
        "id": "9115df50"
      },
      "source": [
        "<h2 style='color:hotpink' align='center'>MODULE: PYTHON LANGUAGE</h2>"
      ]
    },
    {
      "cell_type": "markdown",
      "id": "09c21c68",
      "metadata": {
        "deletable": false,
        "editable": false,
        "id": "09c21c68"
      },
      "source": [
        "<h2 style='color:blue' align='center'>Topic: List</h2>"
      ]
    },
    {
      "cell_type": "markdown",
      "id": "cf9bc33d",
      "metadata": {
        "deletable": false,
        "editable": false,
        "id": "cf9bc33d"
      },
      "source": [
        "<h2 style='color:#C60D25' align='center'>Assignment</h2>"
      ]
    },
    {
      "cell_type": "markdown",
      "id": "8cd78109",
      "metadata": {
        "deletable": false,
        "editable": false,
        "id": "8cd78109"
      },
      "source": [
        "<h2 style='color:black' align='left'>Instructions:</h2>"
      ]
    },
    {
      "cell_type": "markdown",
      "id": "55e6b807",
      "metadata": {
        "deletable": false,
        "editable": false,
        "id": "55e6b807"
      },
      "source": [
        "* Please complete below assignment on this jupyter notebook.Once complete please upload the file in your dashboard assignments block (where you are downloaded) as a .ipynb file format\n",
        "\n",
        "\n",
        "* Due date: To be submitted before teh next topic/session\n",
        "\n",
        "\n",
        "* Scoring/Marks: As per topic guidelines\n"
      ]
    },
    {
      "cell_type": "markdown",
      "id": "8c092dda",
      "metadata": {
        "deletable": false,
        "editable": false,
        "id": "8c092dda"
      },
      "source": [
        "### 1) Write a Python program to interchange first and last elements in a list\n",
        "\n",
        "#### Input : [1,2,3,4,5]\n",
        "\n",
        "#### Output : [5,4,3,2,1]\n",
        "\n",
        "\n"
      ]
    },
    {
      "cell_type": "code",
      "execution_count": 1,
      "id": "54abfeb8",
      "metadata": {
        "colab": {
          "base_uri": "https://localhost:8080/"
        },
        "id": "54abfeb8",
        "outputId": "f2a83e18-0ff7-492b-f46a-9fa21f0e2d0a"
      },
      "outputs": [
        {
          "output_type": "stream",
          "name": "stdout",
          "text": [
            "[5, 2, 3, 4, 1]\n"
          ]
        }
      ],
      "source": [
        "list1 = [1,2,3,4,5]\n",
        "list1[0],list1[-1] = list1[-1],list1[0]\n",
        "print(list1)\n",
        "\n",
        "\n",
        "\n"
      ]
    },
    {
      "cell_type": "markdown",
      "id": "3c332cdb",
      "metadata": {
        "deletable": false,
        "editable": false,
        "id": "3c332cdb"
      },
      "source": [
        "### 2) Write a Python program to swap two elements in a list\n",
        "\n",
        "#### Input : List = [7,8,9,10,11]\n",
        "\n",
        "#### Output : [7, 11, 9, 10, 8]\n",
        "\n",
        "\n"
      ]
    },
    {
      "cell_type": "code",
      "execution_count": 2,
      "id": "dafc135c",
      "metadata": {
        "colab": {
          "base_uri": "https://localhost:8080/"
        },
        "id": "dafc135c",
        "outputId": "c9a3dff6-7dfb-4e0a-ac69-ddb1745fbef5"
      },
      "outputs": [
        {
          "output_type": "stream",
          "name": "stdout",
          "text": [
            "[7, 10, 9, 8, 11]\n"
          ]
        }
      ],
      "source": [
        "list2 = [7,8,9,10,11]\n",
        "list2[1],list2[3] = list2[3],list2[1]\n",
        "print(list2)\n",
        "\n",
        "\n"
      ]
    },
    {
      "cell_type": "markdown",
      "id": "bb571b6c",
      "metadata": {
        "deletable": false,
        "editable": false,
        "id": "bb571b6c"
      },
      "source": [
        "### 3) Write a python program Remove Duplicate elements from a list in Python\n",
        "\n",
        "### a = [1,1,2,3,2,2,1,3,4,4,5,6]"
      ]
    },
    {
      "cell_type": "code",
      "execution_count": null,
      "id": "69c1d8f7",
      "metadata": {
        "id": "69c1d8f7"
      },
      "outputs": [],
      "source": [
        "list3 = [1,1,2,3,2,2,1,3,4,4,5,6]\n",
        "list3 = list(set(list3))\n",
        "print(list3)\n",
        "\n"
      ]
    },
    {
      "cell_type": "markdown",
      "id": "83283646",
      "metadata": {
        "deletable": false,
        "editable": false,
        "id": "83283646"
      },
      "source": [
        "### 4) Write a Python program to find length of list\n",
        "\n",
        "### a = [1,1,2,3,2,2,1,3,4,4,5,6]\n",
        "\n"
      ]
    },
    {
      "cell_type": "code",
      "execution_count": 3,
      "id": "0bf9ac21",
      "metadata": {
        "colab": {
          "base_uri": "https://localhost:8080/"
        },
        "id": "0bf9ac21",
        "outputId": "936c1ef5-8201-4cc6-d928-a36ca95e3452"
      },
      "outputs": [
        {
          "output_type": "stream",
          "name": "stdout",
          "text": [
            "12\n"
          ]
        }
      ],
      "source": [
        "list4 = [1,1,2,3,2,2,1,3,4,4,5,6]\n",
        "print(len(list4))\n",
        "\n",
        "\n"
      ]
    },
    {
      "cell_type": "markdown",
      "id": "09ddeea8",
      "metadata": {
        "deletable": false,
        "editable": false,
        "id": "09ddeea8"
      },
      "source": [
        "### 5) Write a Python program to count Even and Odd numbers in a List  \n",
        "\n",
        "### a = [22,3,34,45,66,67,7,78,44,56,4,33,65]\n",
        "\n",
        "\n"
      ]
    },
    {
      "cell_type": "code",
      "execution_count": 13,
      "id": "7ba2e33c",
      "metadata": {
        "colab": {
          "base_uri": "https://localhost:8080/"
        },
        "id": "7ba2e33c",
        "outputId": "69e9ad11-56c8-4c48-91bf-137716b75df6"
      },
      "outputs": [
        {
          "output_type": "stream",
          "name": "stdout",
          "text": [
            "even numbers are 22\n",
            "even numbers are 34\n",
            "even numbers are 66\n",
            "even numbers are 78\n",
            "even numbers are 44\n",
            "even numbers are 56\n",
            "even numbers are 4\n",
            "odd numbers are 3\n",
            "odd numbers are 45\n",
            "odd numbers are 67\n",
            "odd numbers are 7\n",
            "odd numbers are 33\n",
            "odd numbers are 65\n"
          ]
        }
      ],
      "source": [
        "a = [22,3,34,45,66,67,7,78,44,56,4,33,65]\n",
        "for i in a:\n",
        "    if i%2==0:\n",
        "        print(\"even numbers are\", i)\n",
        "for i in a:\n",
        "    if i%2!=0:\n",
        "        print(\"odd numbers are\", i)"
      ]
    },
    {
      "cell_type": "markdown",
      "id": "20095c2b",
      "metadata": {
        "deletable": false,
        "editable": false,
        "id": "20095c2b"
      },
      "source": [
        "### 6) Write a Python program How to count unique values inside a list\n",
        "\n",
        "### a=[1,1,1,2,21,21,2,3,4,55,3,55,6]\n",
        "\n",
        "\n"
      ]
    },
    {
      "cell_type": "code",
      "execution_count": 20,
      "id": "efab5243",
      "metadata": {
        "colab": {
          "base_uri": "https://localhost:8080/"
        },
        "id": "efab5243",
        "outputId": "cf9f1951-8453-41b0-a67d-a14beb4868d3"
      },
      "outputs": [
        {
          "output_type": "stream",
          "name": "stdout",
          "text": [
            "4\n",
            "6\n"
          ]
        }
      ],
      "source": [
        "b = [1,1,1,2,21,21,2,3,4,55,3,55,6]\n",
        "for i in b:\n",
        "    if b.count(i)==1:\n",
        "        print(i)"
      ]
    },
    {
      "cell_type": "markdown",
      "id": "e6fdce01",
      "metadata": {
        "deletable": false,
        "editable": false,
        "id": "e6fdce01"
      },
      "source": [
        "### 7) Write a python program to display even position number in the given list\n",
        "\n",
        "### a = [1, 3, 5, 6, 3, 5, 6, 1]\n",
        "\n",
        "\n"
      ]
    },
    {
      "cell_type": "code",
      "execution_count": 22,
      "id": "e0ec4bd7",
      "metadata": {
        "colab": {
          "base_uri": "https://localhost:8080/"
        },
        "id": "e0ec4bd7",
        "outputId": "17eeb63a-6749-482f-8f1c-27565f0fde77"
      },
      "outputs": [
        {
          "output_type": "stream",
          "name": "stdout",
          "text": [
            "even numbers are 1\n",
            "even numbers are 1\n",
            "even numbers are 1\n",
            "even numbers are 1\n",
            "even numbers are 1\n",
            "even numbers are 1\n",
            "even numbers are 1\n"
          ]
        }
      ],
      "source": [
        "w = [1,2,5,6,3,5,6,1]\n",
        "for u in a:\n",
        "    if u%2==0:\n",
        "        print(\"even numbers are\", i)\n"
      ]
    },
    {
      "cell_type": "markdown",
      "id": "ad1ec86a",
      "metadata": {
        "deletable": false,
        "editable": false,
        "id": "ad1ec86a"
      },
      "source": [
        "### 8) What are the properties of the list?\n"
      ]
    },
    {
      "cell_type": "code",
      "execution_count": 28,
      "id": "d9427989",
      "metadata": {
        "colab": {
          "base_uri": "https://localhost:8080/"
        },
        "id": "d9427989",
        "outputId": "69576d49-0dff-40a6-f6c5-a538bae5f026"
      },
      "outputs": [
        {
          "output_type": "stream",
          "name": "stdout",
          "text": [
            "[1, 2, 3, 4, 5, 6]\n",
            "[2, 3, 5, 4, 5, 6]\n",
            "[2, 3, 5, 4, 5]\n",
            "[5, 4, 5, 3, 2]\n"
          ]
        }
      ],
      "source": [
        "\n",
        "list5 = [1,2,3,4,5]\n",
        "list5.append(6)\n",
        "print(list5)\n",
        "list5.remove(1)\n",
        "list5.insert(2, 5)\n",
        "print(list5)\n",
        "list5.pop()\n",
        "print(list5)\n",
        "list5.reverse()\n",
        "print(list5)\n",
        "\n"
      ]
    },
    {
      "cell_type": "markdown",
      "id": "42a0a68f",
      "metadata": {
        "deletable": false,
        "editable": false,
        "id": "42a0a68f"
      },
      "source": [
        "### 9)\n",
        "\n",
        "\"\"\"Consider a list (list = []). You can perform the following commands:\n",
        "\n",
        "1)insert 5 in a: Insert integer 3rd at position .\n",
        "\n",
        "2)print: Print the list.\n",
        "\n",
        "3)remove a: Delete the first occurrence of integer .\n",
        "\n",
        "4)append a: Insert integer  at the end of the list.\n",
        "\n",
        "5)sort: Sort the list.\n",
        "\n",
        "6)pop: Pop the last element from the list.\n",
        "\n",
        "7)reverse: Reverse the list.\n",
        "\n",
        "8)print the final list\n",
        "\n",
        "Iterate through each command in order and perform the corresponding operation on your list.\"\"\"\n",
        "\n",
        "\n"
      ]
    },
    {
      "cell_type": "code",
      "execution_count": null,
      "id": "aed5d75e",
      "metadata": {
        "id": "aed5d75e"
      },
      "outputs": [],
      "source": [
        "\n"
      ]
    },
    {
      "cell_type": "markdown",
      "id": "4738e262",
      "metadata": {
        "deletable": false,
        "editable": false,
        "id": "4738e262"
      },
      "source": [
        "### 10)\n",
        "\n",
        "''' Create a one element list\n",
        "\n",
        "insert 1 3     \n",
        "\n",
        "insert 2 15\n",
        "\n",
        "insert 0 9\n",
        "\n",
        "print\n",
        "\n",
        "remove 15\n",
        "\n",
        "append 4\n",
        "\n",
        "append 5\n",
        "\n",
        "sort\n",
        "\n",
        "print\n",
        "\n",
        "pop\n",
        "\n",
        "reverse\n",
        "\n",
        "print'''\n",
        "\n",
        "#### output\n",
        "[9, 3, 15]\n",
        "\n",
        "[3, 4, 5, 9]\n",
        "\n",
        "[5,4,3]\n",
        "\n",
        "\n"
      ]
    },
    {
      "cell_type": "code",
      "execution_count": 30,
      "id": "73b74432",
      "metadata": {
        "colab": {
          "base_uri": "https://localhost:8080/"
        },
        "id": "73b74432",
        "outputId": "93ff8077-f2c0-4252-f5d7-bb277ec1e6fc"
      },
      "outputs": [
        {
          "output_type": "stream",
          "name": "stdout",
          "text": [
            "[9, 3, 15]\n",
            "[3, 4, 5, 9]\n",
            "[5, 4, 3]\n"
          ]
        }
      ],
      "source": [
        "p = []\n",
        "p.insert(1,3)\n",
        "p.insert(2,15)\n",
        "p.insert(0,9)\n",
        "print(p)\n",
        "p.remove(15)\n",
        "p.append(4)\n",
        "p.append(5)\n",
        "p.sort()\n",
        "print(p)\n",
        "p.pop()\n",
        "p.reverse()\n",
        "print(p)"
      ]
    },
    {
      "cell_type": "markdown",
      "id": "0eac61c4",
      "metadata": {
        "deletable": false,
        "editable": false,
        "id": "0eac61c4"
      },
      "source": [
        "### 11) Write a program to find second largest number of list\n",
        "\n",
        "\n"
      ]
    },
    {
      "cell_type": "code",
      "execution_count": 29,
      "id": "ed187702",
      "metadata": {
        "colab": {
          "base_uri": "https://localhost:8080/"
        },
        "id": "ed187702",
        "outputId": "06c0c31b-56f3-43b6-e957-1eacd931c1a9"
      },
      "outputs": [
        {
          "output_type": "stream",
          "name": "stdout",
          "text": [
            "[1, 2, 3, 32, 43, 45, 63, 96, 528]\n",
            "second largest number is 96\n"
          ]
        }
      ],
      "source": [
        "a = [1,2,3,45,32,96,43,528,63]\n",
        "a.sort()\n",
        "print(\"second largest number is\", a[-2])\n"
      ]
    },
    {
      "cell_type": "markdown",
      "id": "62d69f5c",
      "metadata": {
        "deletable": false,
        "editable": false,
        "id": "62d69f5c"
      },
      "source": [
        "### 12) Waht is the list methods and explain with relative exeamples?\n",
        "\n"
      ]
    },
    {
      "cell_type": "code",
      "execution_count": null,
      "id": "dc788f7b",
      "metadata": {
        "id": "dc788f7b"
      },
      "outputs": [],
      "source": []
    }
  ],
  "metadata": {
    "kernelspec": {
      "display_name": "Python 3 (ipykernel)",
      "language": "python",
      "name": "python3"
    },
    "language_info": {
      "codemirror_mode": {
        "name": "ipython",
        "version": 3
      },
      "file_extension": ".py",
      "mimetype": "text/x-python",
      "name": "python",
      "nbconvert_exporter": "python",
      "pygments_lexer": "ipython3",
      "version": "3.11.5"
    },
    "colab": {
      "provenance": [],
      "include_colab_link": true
    }
  },
  "nbformat": 4,
  "nbformat_minor": 5
}