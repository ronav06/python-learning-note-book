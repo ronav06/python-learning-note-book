{
  "nbformat": 4,
  "nbformat_minor": 0,
  "metadata": {
    "colab": {
      "provenance": [],
      "authorship_tag": "ABX9TyNIinFhnxlh/fotEfWVWXnX",
      "include_colab_link": true
    },
    "kernelspec": {
      "name": "python3",
      "display_name": "Python 3"
    },
    "language_info": {
      "name": "python"
    }
  },
  "cells": [
    {
      "cell_type": "markdown",
      "metadata": {
        "id": "view-in-github",
        "colab_type": "text"
      },
      "source": [
        "<a href=\"https://colab.research.google.com/github/ronav06/python-learning-note-book/blob/main/Untitled0.ipynb\" target=\"_parent\"><img src=\"https://colab.research.google.com/assets/colab-badge.svg\" alt=\"Open In Colab\"/></a>"
      ]
    },
    {
      "cell_type": "markdown",
      "source": [
        "THIS IS A NOTEBOOK WITH DETAILS TO LEARN ***PYTHON***"
      ],
      "metadata": {
        "id": "6tpJLXTCvx8F"
      }
    },
    {
      "cell_type": "code",
      "execution_count": null,
      "metadata": {
        "id": "AaKJasywZ5_t",
        "colab": {
          "base_uri": "https://localhost:8080/"
        },
        "outputId": "01f80caf-8ece-4384-de0b-d634c4b79bbb"
      },
      "outputs": [
        {
          "output_type": "stream",
          "name": "stdout",
          "text": [
            "What is your name? RONAV\n",
            "Hello, RONAV!\n"
          ]
        }
      ],
      "source": [
        "name = input(\"What is your name? \")\n",
        "print(\"Hello, \" + name + \"!\")"
      ]
    },
    {
      "cell_type": "code",
      "source": [
        "'''\n",
        "some text here\n",
        "'''"
      ],
      "metadata": {
        "id": "UpwY1I0wMzpv",
        "colab": {
          "base_uri": "https://localhost:8080/",
          "height": 36
        },
        "outputId": "c0b15c5a-f8ae-4444-e8d3-ab6989e2632c"
      },
      "execution_count": null,
      "outputs": [
        {
          "output_type": "execute_result",
          "data": {
            "text/plain": [
              "'\\nsome text here\\n'"
            ],
            "application/vnd.google.colaboratory.intrinsic+json": {
              "type": "string"
            }
          },
          "metadata": {},
          "execution_count": 5
        }
      ]
    },
    {
      "cell_type": "markdown",
      "source": [
        "text above  in ''' won't be exicuted (propely) as python dosn't allow when text is in ''' '''"
      ],
      "metadata": {
        "id": "tPbMtLZm7IPR"
      }
    },
    {
      "cell_type": "markdown",
      "source": [
        "**input** is used to display a question( \"What is your name? \")"
      ],
      "metadata": {
        "id": "vBaGGSg05oGE"
      }
    },
    {
      "cell_type": "code",
      "source": [
        "# this is a comment helps you understand a code"
      ],
      "metadata": {
        "id": "KOMyinz-4Sfy"
      },
      "execution_count": null,
      "outputs": []
    },
    {
      "cell_type": "code",
      "source": [
        "\n",
        "print(\"Hello World\")\n"
      ],
      "metadata": {
        "colab": {
          "base_uri": "https://localhost:8080/"
        },
        "id": "VNILy-EGmYtq",
        "outputId": "01f74021-499c-48ee-9785-154a8db53528"
      },
      "execution_count": null,
      "outputs": [
        {
          "output_type": "stream",
          "name": "stdout",
          "text": [
            "Hello World\n"
          ]
        }
      ]
    },
    {
      "cell_type": "markdown",
      "source": [
        "**print** is used to show text"
      ],
      "metadata": {
        "id": "-rg-0p0d4sdY"
      }
    },
    {
      "cell_type": "code",
      "source": [
        "a = 4\n",
        "a"
      ],
      "metadata": {
        "id": "AHh2tmigRU6g",
        "colab": {
          "base_uri": "https://localhost:8080/"
        },
        "outputId": "28013f0c-0e01-4e4f-ebbe-b144502378e3"
      },
      "execution_count": null,
      "outputs": [
        {
          "output_type": "execute_result",
          "data": {
            "text/plain": [
              "4"
            ]
          },
          "metadata": {},
          "execution_count": 2
        }
      ]
    },
    {
      "cell_type": "markdown",
      "source": [
        "to add varibles you can do a = 5 (for example)"
      ],
      "metadata": {
        "id": "9mjJkBKJ8L3g"
      }
    },
    {
      "cell_type": "markdown",
      "source": [
        "once a **varible** is added you can use it in your code by using its name"
      ],
      "metadata": {
        "id": "izTeFo8sbypa"
      }
    },
    {
      "cell_type": "code",
      "source": [
        "name = \"Ronav\"\n",
        "age = 11\n",
        "height = 4.5\n",
        "print(age)     #answer is 11 [age]\n",
        "print(height)  #answer is 4.5 [height]\n",
        "print(name)     #answer is ronav [name]\n",
        "print(type(name))# is string\n",
        "print(type(age))# is integer\n",
        "print(type(height))# is float"
      ],
      "metadata": {
        "colab": {
          "base_uri": "https://localhost:8080/"
        },
        "id": "-dMhihnXcYUN",
        "outputId": "be5c6a89-c554-41e2-c636-50e44fd674c4"
      },
      "execution_count": null,
      "outputs": [
        {
          "output_type": "stream",
          "name": "stdout",
          "text": [
            "11\n",
            "4.5\n",
            "Ronav\n",
            "<class 'str'>\n",
            "<class 'int'>\n",
            "<class 'float'>\n"
          ]
        }
      ]
    },
    {
      "cell_type": "markdown",
      "source": [
        "\n",
        "\n",
        "*   int stands for integer [any number without decimal]\n",
        "*   float is said for decimal\n",
        "\n",
        "*   whatever is in the \"\" is called string(str)\n",
        "\n",
        "\n",
        "\n",
        "\n"
      ],
      "metadata": {
        "id": "oM-C70hu120H"
      }
    },
    {
      "cell_type": "markdown",
      "source": [
        "varible is used to store data,like shown above"
      ],
      "metadata": {
        "id": "sHkAIpsdc2VQ"
      }
    },
    {
      "cell_type": "markdown",
      "source": [
        "when we see a *green tick* next to a play button ina code we know that a code data is stored and exicuted properly"
      ],
      "metadata": {
        "id": "9CEpICOJzZmu"
      }
    },
    {
      "cell_type": "code",
      "source": [
        "name = \"Deepa\"\n",
        "age = 44\n",
        "height = 5.2"
      ],
      "metadata": {
        "id": "I6l_AycCe-Oh"
      },
      "execution_count": null,
      "outputs": []
    },
    {
      "cell_type": "markdown",
      "source": [
        "to check the type we use `type`"
      ],
      "metadata": {
        "id": "nxEW8B3Q4fa0"
      }
    },
    {
      "cell_type": "code",
      "source": [
        "age = 17\n",
        "print(age + 3)"
      ],
      "metadata": {
        "colab": {
          "base_uri": "https://localhost:8080/"
        },
        "id": "nVlKoRgb5CSl",
        "outputId": "9e1550a4-707c-458d-de50-033bc9db7c53"
      },
      "execution_count": null,
      "outputs": [
        {
          "output_type": "stream",
          "name": "stdout",
          "text": [
            "20\n"
          ]
        }
      ]
    },
    {
      "cell_type": "markdown",
      "source": [
        "we can also do math operations"
      ],
      "metadata": {
        "id": "XFqAnj2J5WVl"
      }
    },
    {
      "cell_type": "code",
      "source": [
        "number = input(\"give me one number \")\n",
        "number = int(number)\n",
        "print(number + 5)"
      ],
      "metadata": {
        "colab": {
          "base_uri": "https://localhost:8080/"
        },
        "id": "q07UGhna6YSH",
        "outputId": "8ab77802-802f-4e1e-b941-2f632321603b"
      },
      "execution_count": null,
      "outputs": [
        {
          "output_type": "stream",
          "name": "stdout",
          "text": [
            "give me one number 45\n",
            "50\n"
          ]
        }
      ]
    },
    {
      "cell_type": "markdown",
      "source": [
        "we should always specify what type of varible we are asking question"
      ],
      "metadata": {
        "id": "7_YsYEJB7pFr"
      }
    },
    {
      "cell_type": "code",
      "source": [
        "print(len(name))"
      ],
      "metadata": {
        "colab": {
          "base_uri": "https://localhost:8080/"
        },
        "id": "2n6mzjyMcm8n",
        "outputId": "b04926d3-b471-4083-a618-1a926ea699b8"
      },
      "execution_count": null,
      "outputs": [
        {
          "output_type": "stream",
          "name": "stdout",
          "text": [
            "5\n"
          ]
        }
      ]
    },
    {
      "cell_type": "markdown",
      "source": [
        "len is used to check how many letters a varible (over here with refernce from `name = deepa`..."
      ],
      "metadata": {
        "id": "Rnsc7kyldHT7"
      }
    },
    {
      "cell_type": "code",
      "source": [
        "age = str(age) # we are changing the varible from integer to string\n",
        "print(type(age))"
      ],
      "metadata": {
        "colab": {
          "base_uri": "https://localhost:8080/"
        },
        "id": "vlSIfsrbeSLZ",
        "outputId": "bed41fd6-f9c0-43cd-8627-7127265c4e03"
      },
      "execution_count": null,
      "outputs": [
        {
          "output_type": "stream",
          "name": "stdout",
          "text": [
            "<class 'str'>\n"
          ]
        }
      ]
    },
    {
      "cell_type": "markdown",
      "source": [
        "we can change the type of varibles too\n"
      ],
      "metadata": {
        "id": "MIXDyF4jhPdS"
      }
    },
    {
      "cell_type": "code",
      "source": [
        "print(age)"
      ],
      "metadata": {
        "colab": {
          "base_uri": "https://localhost:8080/"
        },
        "id": "KTHSfe5Rhzv8",
        "outputId": "c97bfd75-a869-4ff5-d50a-d5359c3fbf29"
      },
      "execution_count": null,
      "outputs": [
        {
          "output_type": "stream",
          "name": "stdout",
          "text": [
            "44\n"
          ]
        }
      ]
    },
    {
      "cell_type": "markdown",
      "source": [
        "anything in \" \" is a string even if it is a no. answer is still 44 as 44 is in \"44\" which is a string"
      ],
      "metadata": {
        "id": "fWDIeJh2h40y"
      }
    },
    {
      "cell_type": "code",
      "source": [
        "num1 = 56\n",
        "num1 = float(num1)\n",
        "print(num1)"
      ],
      "metadata": {
        "colab": {
          "base_uri": "https://localhost:8080/"
        },
        "id": "L6pFmXPmjY68",
        "outputId": "9a003c92-472c-41d5-e55b-8c426834273c"
      },
      "execution_count": null,
      "outputs": [
        {
          "output_type": "stream",
          "name": "stdout",
          "text": [
            "56.0\n"
          ]
        }
      ]
    },
    {
      "cell_type": "code",
      "source": [
        "num2 = \"world\"\n",
        "num2 = \"123\"\n",
        "num2 = int(num2)\n",
        "print(num2)\n",
        "print(type(num2))"
      ],
      "metadata": {
        "colab": {
          "base_uri": "https://localhost:8080/"
        },
        "id": "QDApxM_wNWCZ",
        "outputId": "fce41d32-0f49-4ee9-9a8d-99c7f997f55c"
      },
      "execution_count": null,
      "outputs": [
        {
          "output_type": "stream",
          "name": "stdout",
          "text": [
            "123\n",
            "<class 'int'>\n"
          ]
        }
      ]
    },
    {
      "cell_type": "markdown",
      "source": [
        "we can change string to integer if we set a number value (varible)"
      ],
      "metadata": {
        "id": "CSrURtjRqIpz"
      }
    },
    {
      "cell_type": "code",
      "source": [
        "no1 = input(\"give me a no\")\n",
        "no2 = input(\"give me another no\")\n",
        "no1 = int(no1)\n",
        "no2 = int(no2)\n",
        "print(no1 + no2)"
      ],
      "metadata": {
        "colab": {
          "base_uri": "https://localhost:8080/"
        },
        "id": "MSCeC7SxsGU_",
        "outputId": "f2b1c117-603f-452b-f380-8fc38813d8a0"
      },
      "execution_count": 4,
      "outputs": [
        {
          "output_type": "stream",
          "name": "stdout",
          "text": [
            "give me a no70\n",
            "give me another no56\n",
            "126\n"
          ]
        }
      ]
    },
    {
      "cell_type": "code",
      "source": [
        "no67 = input(\"what is your name\")\n",
        "print(no67)\n",
        "type(no67)"
      ],
      "metadata": {
        "colab": {
          "base_uri": "https://localhost:8080/"
        },
        "id": "pCdH42cutOA2",
        "outputId": "1135eaf5-9f26-4430-fb3d-02fcfdbea6aa"
      },
      "execution_count": 7,
      "outputs": [
        {
          "output_type": "stream",
          "name": "stdout",
          "text": [
            "what is your nameRonav\n",
            "Ronav\n"
          ]
        },
        {
          "output_type": "execute_result",
          "data": {
            "text/plain": [
              "str"
            ]
          },
          "metadata": {},
          "execution_count": 7
        }
      ]
    }
  ]
}