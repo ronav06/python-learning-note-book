{
  "nbformat": 4,
  "nbformat_minor": 0,
  "metadata": {
    "colab": {
      "provenance": [],
      "authorship_tag": "ABX9TyNcH2RkJwgIaRE6bBxww548",
      "include_colab_link": true
    },
    "kernelspec": {
      "name": "python3",
      "display_name": "Python 3"
    },
    "language_info": {
      "name": "python"
    }
  },
  "cells": [
    {
      "cell_type": "markdown",
      "metadata": {
        "id": "view-in-github",
        "colab_type": "text"
      },
      "source": [
        "<a href=\"https://colab.research.google.com/github/ronav06/python-learning-note-book/blob/main/Untitled0.ipynb\" target=\"_parent\"><img src=\"https://colab.research.google.com/assets/colab-badge.svg\" alt=\"Open In Colab\"/></a>"
      ]
    },
    {
      "cell_type": "markdown",
      "source": [
        "THIS IS A NOTEBOOK WITH DETAILS TO LEARN ***PYTHON***"
      ],
      "metadata": {
        "id": "6tpJLXTCvx8F"
      }
    },
    {
      "cell_type": "code",
      "source": [
        "'''\n",
        "some text here\n",
        "'''"
      ],
      "metadata": {
        "id": "UpwY1I0wMzpv",
        "colab": {
          "base_uri": "https://localhost:8080/",
          "height": 36
        },
        "outputId": "c0b15c5a-f8ae-4444-e8d3-ab6989e2632c"
      },
      "execution_count": null,
      "outputs": [
        {
          "output_type": "execute_result",
          "data": {
            "text/plain": [
              "'\\nsome text here\\n'"
            ],
            "application/vnd.google.colaboratory.intrinsic+json": {
              "type": "string"
            }
          },
          "metadata": {},
          "execution_count": 5
        }
      ]
    },
    {
      "cell_type": "markdown",
      "source": [
        "text above  in ''' won't be exicuted (propely) as python dosn't allow when text is in ''' '''"
      ],
      "metadata": {
        "id": "tPbMtLZm7IPR"
      }
    },
    {
      "cell_type": "markdown",
      "source": [
        "# 1. comments"
      ],
      "metadata": {
        "id": "2gCrXm-NPuOb"
      }
    },
    {
      "cell_type": "code",
      "source": [
        "# this is a comment helps you understand a code"
      ],
      "metadata": {
        "id": "KOMyinz-4Sfy"
      },
      "execution_count": null,
      "outputs": []
    },
    {
      "cell_type": "markdown",
      "source": [
        "# 2. print statements"
      ],
      "metadata": {
        "id": "PE4UJYsfQIkW"
      }
    },
    {
      "cell_type": "code",
      "source": [
        "\n",
        "print(\"Hello World\")\n"
      ],
      "metadata": {
        "colab": {
          "base_uri": "https://localhost:8080/"
        },
        "id": "VNILy-EGmYtq",
        "outputId": "01f74021-499c-48ee-9785-154a8db53528"
      },
      "execution_count": null,
      "outputs": [
        {
          "output_type": "stream",
          "name": "stdout",
          "text": [
            "Hello World\n"
          ]
        }
      ]
    },
    {
      "cell_type": "markdown",
      "source": [
        "**print** is used to show text"
      ],
      "metadata": {
        "id": "-rg-0p0d4sdY"
      }
    },
    {
      "cell_type": "markdown",
      "source": [
        "# 3.varibles"
      ],
      "metadata": {
        "id": "2M-KDdKLQSzp"
      }
    },
    {
      "cell_type": "code",
      "source": [
        "a = 4\n",
        "a"
      ],
      "metadata": {
        "id": "AHh2tmigRU6g",
        "colab": {
          "base_uri": "https://localhost:8080/"
        },
        "outputId": "28013f0c-0e01-4e4f-ebbe-b144502378e3"
      },
      "execution_count": null,
      "outputs": [
        {
          "output_type": "execute_result",
          "data": {
            "text/plain": [
              "4"
            ]
          },
          "metadata": {},
          "execution_count": 2
        }
      ]
    },
    {
      "cell_type": "markdown",
      "source": [
        "to add varibles you can do a = 5 (for example)"
      ],
      "metadata": {
        "id": "9mjJkBKJ8L3g"
      }
    },
    {
      "cell_type": "markdown",
      "source": [
        "once a **varible** is added you can use it in your code by using its name"
      ],
      "metadata": {
        "id": "izTeFo8sbypa"
      }
    },
    {
      "cell_type": "markdown",
      "source": [
        "# types of varibles"
      ],
      "metadata": {
        "id": "a5S62esGQ1H7"
      }
    },
    {
      "cell_type": "code",
      "source": [
        "name = \"Ronav\"\n",
        "age = 11\n",
        "height = 4.5\n",
        "print(age)     #answer is 11 [age]\n",
        "print(height)  #answer is 4.5 [height]\n",
        "print(name)     #answer is ronav [name]\n",
        "print(type(name))# is string\n",
        "print(type(age))# is integer\n",
        "print(type(height))# is float"
      ],
      "metadata": {
        "colab": {
          "base_uri": "https://localhost:8080/"
        },
        "id": "-dMhihnXcYUN",
        "outputId": "be5c6a89-c554-41e2-c636-50e44fd674c4"
      },
      "execution_count": null,
      "outputs": [
        {
          "output_type": "stream",
          "name": "stdout",
          "text": [
            "11\n",
            "4.5\n",
            "Ronav\n",
            "<class 'str'>\n",
            "<class 'int'>\n",
            "<class 'float'>\n"
          ]
        }
      ]
    },
    {
      "cell_type": "markdown",
      "source": [
        "\n",
        "\n",
        "*   int stands for integer [any number without decimal]\n",
        "*   float is said for decimal\n",
        "\n",
        "*   whatever is in the \"\" is called string(str)\n",
        "\n",
        "\n",
        "\n",
        "\n"
      ],
      "metadata": {
        "id": "oM-C70hu120H"
      }
    },
    {
      "cell_type": "markdown",
      "source": [
        "varible is used to store data,like shown above"
      ],
      "metadata": {
        "id": "sHkAIpsdc2VQ"
      }
    },
    {
      "cell_type": "markdown",
      "source": [
        "when we see a *green tick* next to a play button ina code we know that a code data is stored and exicuted properly"
      ],
      "metadata": {
        "id": "9CEpICOJzZmu"
      }
    },
    {
      "cell_type": "code",
      "source": [
        "name = \"Deepa\"\n",
        "age = 44\n",
        "height = 5.2"
      ],
      "metadata": {
        "id": "I6l_AycCe-Oh"
      },
      "execution_count": null,
      "outputs": []
    },
    {
      "cell_type": "markdown",
      "source": [
        "to check the type we use `type`"
      ],
      "metadata": {
        "id": "nxEW8B3Q4fa0"
      }
    },
    {
      "cell_type": "code",
      "source": [
        "age = 17\n",
        "print(age + 3)"
      ],
      "metadata": {
        "colab": {
          "base_uri": "https://localhost:8080/"
        },
        "id": "nVlKoRgb5CSl",
        "outputId": "9e1550a4-707c-458d-de50-033bc9db7c53"
      },
      "execution_count": null,
      "outputs": [
        {
          "output_type": "stream",
          "name": "stdout",
          "text": [
            "20\n"
          ]
        }
      ]
    },
    {
      "cell_type": "markdown",
      "source": [
        "we can also do math operations"
      ],
      "metadata": {
        "id": "XFqAnj2J5WVl"
      }
    },
    {
      "cell_type": "markdown",
      "source": [
        "# 4.input"
      ],
      "metadata": {
        "id": "uYQHsXH7Qf18"
      }
    },
    {
      "cell_type": "code",
      "source": [
        "number = input(\"give me one number \")\n",
        "number = int(number)\n",
        "print(number + 5)"
      ],
      "metadata": {
        "colab": {
          "base_uri": "https://localhost:8080/"
        },
        "id": "q07UGhna6YSH",
        "outputId": "8ab77802-802f-4e1e-b941-2f632321603b"
      },
      "execution_count": null,
      "outputs": [
        {
          "output_type": "stream",
          "name": "stdout",
          "text": [
            "give me one number 45\n",
            "50\n"
          ]
        }
      ]
    },
    {
      "cell_type": "markdown",
      "source": [
        "**input** is used to display a question( \"What is your name? \")"
      ],
      "metadata": {
        "id": "vBaGGSg05oGE"
      }
    },
    {
      "cell_type": "markdown",
      "source": [
        "we should always specify what type of varible we are asking question"
      ],
      "metadata": {
        "id": "7_YsYEJB7pFr"
      }
    },
    {
      "cell_type": "code",
      "source": [
        "print(len(name))"
      ],
      "metadata": {
        "colab": {
          "base_uri": "https://localhost:8080/"
        },
        "id": "2n6mzjyMcm8n",
        "outputId": "b04926d3-b471-4083-a618-1a926ea699b8"
      },
      "execution_count": null,
      "outputs": [
        {
          "output_type": "stream",
          "name": "stdout",
          "text": [
            "5\n"
          ]
        }
      ]
    },
    {
      "cell_type": "markdown",
      "source": [
        "len is used to check how many letters a varible (over here with refernce from `name = deepa`..."
      ],
      "metadata": {
        "id": "Rnsc7kyldHT7"
      }
    },
    {
      "cell_type": "markdown",
      "source": [
        "# 5.type changing"
      ],
      "metadata": {
        "id": "WVbewjYlQp_Y"
      }
    },
    {
      "cell_type": "code",
      "source": [
        "age = str(age) # we are changing the varible from integer to string\n",
        "print(type(age))"
      ],
      "metadata": {
        "colab": {
          "base_uri": "https://localhost:8080/"
        },
        "id": "vlSIfsrbeSLZ",
        "outputId": "bed41fd6-f9c0-43cd-8627-7127265c4e03"
      },
      "execution_count": null,
      "outputs": [
        {
          "output_type": "stream",
          "name": "stdout",
          "text": [
            "<class 'str'>\n"
          ]
        }
      ]
    },
    {
      "cell_type": "markdown",
      "source": [
        "we can change the type of varibles too\n"
      ],
      "metadata": {
        "id": "MIXDyF4jhPdS"
      }
    },
    {
      "cell_type": "code",
      "source": [
        "print(age)"
      ],
      "metadata": {
        "colab": {
          "base_uri": "https://localhost:8080/"
        },
        "id": "KTHSfe5Rhzv8",
        "outputId": "c97bfd75-a869-4ff5-d50a-d5359c3fbf29"
      },
      "execution_count": null,
      "outputs": [
        {
          "output_type": "stream",
          "name": "stdout",
          "text": [
            "44\n"
          ]
        }
      ]
    },
    {
      "cell_type": "markdown",
      "source": [
        "anything in \" \" is a string even if it is a no. answer is still 44 as 44 is in \"44\" which is a string"
      ],
      "metadata": {
        "id": "fWDIeJh2h40y"
      }
    },
    {
      "cell_type": "code",
      "source": [
        "num1 = 56\n",
        "num1 = float(num1)\n",
        "print(num1)"
      ],
      "metadata": {
        "colab": {
          "base_uri": "https://localhost:8080/"
        },
        "id": "L6pFmXPmjY68",
        "outputId": "9a003c92-472c-41d5-e55b-8c426834273c"
      },
      "execution_count": null,
      "outputs": [
        {
          "output_type": "stream",
          "name": "stdout",
          "text": [
            "56.0\n"
          ]
        }
      ]
    },
    {
      "cell_type": "code",
      "source": [
        "num2 = \"world\"\n",
        "num2 = \"123\"\n",
        "num2 = int(num2)\n",
        "print(num2)\n",
        "print(type(num2))"
      ],
      "metadata": {
        "colab": {
          "base_uri": "https://localhost:8080/"
        },
        "id": "QDApxM_wNWCZ",
        "outputId": "fce41d32-0f49-4ee9-9a8d-99c7f997f55c"
      },
      "execution_count": null,
      "outputs": [
        {
          "output_type": "stream",
          "name": "stdout",
          "text": [
            "123\n",
            "<class 'int'>\n"
          ]
        }
      ]
    },
    {
      "cell_type": "markdown",
      "source": [
        "we can change string to integer if we set a number value (varible)"
      ],
      "metadata": {
        "id": "CSrURtjRqIpz"
      }
    },
    {
      "cell_type": "code",
      "source": [
        "no1 = input(\"give me a no\")\n",
        "no2 = input(\"give me another no\")\n",
        "no1 = int(no1)\n",
        "no2 = int(no2)\n",
        "print(no1 + no2)"
      ],
      "metadata": {
        "colab": {
          "base_uri": "https://localhost:8080/"
        },
        "id": "MSCeC7SxsGU_",
        "outputId": "f2b1c117-603f-452b-f380-8fc38813d8a0"
      },
      "execution_count": null,
      "outputs": [
        {
          "output_type": "stream",
          "name": "stdout",
          "text": [
            "give me a no70\n",
            "give me another no56\n",
            "126\n"
          ]
        }
      ]
    },
    {
      "cell_type": "code",
      "execution_count": null,
      "metadata": {
        "id": "AaKJasywZ5_t",
        "colab": {
          "base_uri": "https://localhost:8080/"
        },
        "outputId": "01f80caf-8ece-4384-de0b-d634c4b79bbb"
      },
      "outputs": [
        {
          "output_type": "stream",
          "name": "stdout",
          "text": [
            "What is your name? RONAV\n",
            "Hello, RONAV!\n"
          ]
        }
      ],
      "source": [
        "name = input(\"What is your name? \")\n",
        "print(\"Hello, \" + name + \"!\")"
      ]
    },
    {
      "cell_type": "code",
      "source": [
        "no67 = input(\"what is your name\")\n",
        "print(no67)\n",
        "type(no67)"
      ],
      "metadata": {
        "colab": {
          "base_uri": "https://localhost:8080/"
        },
        "id": "pCdH42cutOA2",
        "outputId": "1135eaf5-9f26-4430-fb3d-02fcfdbea6aa"
      },
      "execution_count": null,
      "outputs": [
        {
          "output_type": "stream",
          "name": "stdout",
          "text": [
            "what is your nameRonav\n",
            "Ronav\n"
          ]
        },
        {
          "output_type": "execute_result",
          "data": {
            "text/plain": [
              "str"
            ]
          },
          "metadata": {},
          "execution_count": 7
        }
      ]
    },
    {
      "cell_type": "markdown",
      "source": [
        "# 6. if"
      ],
      "metadata": {
        "id": "eDyqeqFERBBU"
      }
    },
    {
      "cell_type": "code",
      "source": [
        "age = int(input(\"enter your age\"))\n",
        "if age >= 18:\n",
        "  print(\"you are an adult\")"
      ],
      "metadata": {
        "colab": {
          "base_uri": "https://localhost:8080/"
        },
        "id": "EkQTJGCFwGW2",
        "outputId": "fa6d6a4a-b14d-4b10-c12d-c2343f275ad9"
      },
      "execution_count": null,
      "outputs": [
        {
          "output_type": "stream",
          "name": "stdout",
          "text": [
            "enter your age 45\n",
            "you are an adult\n"
          ]
        }
      ]
    },
    {
      "cell_type": "markdown",
      "source": [
        "to add if condition first\n",
        "\n",
        "*   add if '...' = '...'  \n",
        "\n",
        "\n"
      ],
      "metadata": {
        "id": "FzFzvM-4z8i5"
      }
    },
    {
      "cell_type": "markdown",
      "source": [
        "# 7.comparing units"
      ],
      "metadata": {
        "id": "zLn1q7OkRHCs"
      }
    },
    {
      "cell_type": "markdown",
      "source": [
        "for less than '<'\n",
        "for less than '>'"
      ],
      "metadata": {
        "id": "2ywxlzlb3OoJ"
      }
    },
    {
      "cell_type": "markdown",
      "source": [
        "always keep a *space* after **if statement** and **output**"
      ],
      "metadata": {
        "id": "hS7EsbkR4lY1"
      }
    },
    {
      "cell_type": "code",
      "source": [
        "population = int(input(\"enter the population\"))\n",
        "if population >= 1000:\n",
        " print(\"your city is overpopulated\")"
      ],
      "metadata": {
        "colab": {
          "base_uri": "https://localhost:8080/"
        },
        "id": "sOOIMvOS6Sa-",
        "outputId": "cef54cca-dda1-456d-c2f3-be57d9b1deb7"
      },
      "execution_count": null,
      "outputs": [
        {
          "output_type": "stream",
          "name": "stdout",
          "text": [
            "enter the population23455\n",
            "your city is overpopulated\n"
          ]
        }
      ]
    },
    {
      "cell_type": "markdown",
      "source": [
        "# keywords"
      ],
      "metadata": {
        "id": "uaM7S6rsRQMN"
      }
    },
    {
      "cell_type": "code",
      "source": [
        "import keyword\n",
        "print(keyword.kwlist)"
      ],
      "metadata": {
        "colab": {
          "base_uri": "https://localhost:8080/"
        },
        "id": "h3IGNtsK-y_Y",
        "outputId": "caca7a81-4102-4b6f-a9b5-840e596d70f6"
      },
      "execution_count": null,
      "outputs": [
        {
          "output_type": "stream",
          "name": "stdout",
          "text": [
            "['False', 'None', 'True', 'and', 'as', 'assert', 'async', 'await', 'break', 'class', 'continue', 'def', 'del', 'elif', 'else', 'except', 'finally', 'for', 'from', 'global', 'if', 'import', 'in', 'is', 'lambda', 'nonlocal', 'not', 'or', 'pass', 'raise', 'return', 'try', 'while', 'with', 'yield']\n"
          ]
        }
      ]
    },
    {
      "cell_type": "markdown",
      "source": [
        "we will learn about import later"
      ],
      "metadata": {
        "id": "EPkBhMin_IUp"
      }
    },
    {
      "cell_type": "markdown",
      "source": [
        "varibles name not to use = ['False', 'None', 'True', 'and', 'as', 'assert', 'async', 'await', 'break', 'class', 'continue', 'def', 'del', 'elif', 'else', 'except', 'finally', 'for', 'from', 'global', 'if', 'import', 'in', 'is', 'lambda', 'nonlocal', 'not', 'or', 'pass', 'raise', 'return', 'try', 'while', 'with', 'yield'] (all are string or python keyword)"
      ],
      "metadata": {
        "id": "UJ0xAU7n_d5e"
      }
    },
    {
      "cell_type": "markdown",
      "source": [
        "# if continued"
      ],
      "metadata": {
        "id": "eYL-BVG9RXFV"
      }
    },
    {
      "cell_type": "code",
      "source": [
        "password = input(\"enter password\")\n",
        "password = str(password)\n",
        "if password == (\"Ronav Chodankar08\"):\n",
        "  print(\"access granted\")"
      ],
      "metadata": {
        "colab": {
          "base_uri": "https://localhost:8080/"
        },
        "id": "pMlFXBPJ3tcN",
        "outputId": "7b860491-711e-4060-c994-78ebb6de9c0d"
      },
      "execution_count": null,
      "outputs": [
        {
          "output_type": "stream",
          "name": "stdout",
          "text": [
            "enter passwordRonav Chodankar08\n",
            "access granted\n"
          ]
        }
      ]
    },
    {
      "cell_type": "markdown",
      "source": [
        "steps for comparision\n",
        "\n",
        "*  equal to - ==\n",
        "*  less than - <\n",
        "*  greater than - >\n",
        "\n",
        "\n",
        "\n",
        "\n",
        "\n",
        "\n"
      ],
      "metadata": {
        "id": "1vcgxQSg75q-"
      }
    },
    {
      "cell_type": "code",
      "source": [
        "print(3 == 5)"
      ],
      "metadata": {
        "colab": {
          "base_uri": "https://localhost:8080/"
        },
        "id": "4vrsBc3r82P-",
        "outputId": "b8372dfc-1376-45bb-c6de-50cedffc3f29"
      },
      "execution_count": null,
      "outputs": [
        {
          "output_type": "stream",
          "name": "stdout",
          "text": [
            "False\n"
          ]
        }
      ]
    },
    {
      "cell_type": "code",
      "source": [
        "print(3 == 3)"
      ],
      "metadata": {
        "colab": {
          "base_uri": "https://localhost:8080/"
        },
        "id": "nm1OCdy688Xt",
        "outputId": "a6847449-cf1b-4d48-de69-e2f562dc4a5a"
      },
      "execution_count": null,
      "outputs": [
        {
          "output_type": "stream",
          "name": "stdout",
          "text": [
            "True\n"
          ]
        }
      ]
    },
    {
      "cell_type": "code",
      "source": [
        "print( 4 > 6)"
      ],
      "metadata": {
        "colab": {
          "base_uri": "https://localhost:8080/"
        },
        "id": "QDFI9Pvi9Bxb",
        "outputId": "60e861ec-d6fe-4735-ca9c-111830457a86"
      },
      "execution_count": null,
      "outputs": [
        {
          "output_type": "stream",
          "name": "stdout",
          "text": [
            "False\n"
          ]
        }
      ]
    },
    {
      "cell_type": "code",
      "source": [
        "print(6>3)"
      ],
      "metadata": {
        "colab": {
          "base_uri": "https://localhost:8080/"
        },
        "id": "KLmnU70f9KaU",
        "outputId": "73acfe00-2d61-4a22-c313-af3c010c83c6"
      },
      "execution_count": null,
      "outputs": [
        {
          "output_type": "stream",
          "name": "stdout",
          "text": [
            "True\n"
          ]
        }
      ]
    },
    {
      "cell_type": "code",
      "source": [
        "print(5<9)"
      ],
      "metadata": {
        "colab": {
          "base_uri": "https://localhost:8080/"
        },
        "id": "TkCwfHty9TX3",
        "outputId": "158262e0-5a6c-481d-87cc-fddc04279e87"
      },
      "execution_count": null,
      "outputs": [
        {
          "output_type": "stream",
          "name": "stdout",
          "text": [
            "True\n"
          ]
        }
      ]
    },
    {
      "cell_type": "code",
      "source": [
        "print(78 <100)"
      ],
      "metadata": {
        "colab": {
          "base_uri": "https://localhost:8080/"
        },
        "id": "Hg1g4bXL9YIO",
        "outputId": "d6dd43a3-44b6-4740-e698-af6f179f6587"
      },
      "execution_count": null,
      "outputs": [
        {
          "output_type": "stream",
          "name": "stdout",
          "text": [
            "True\n"
          ]
        }
      ]
    },
    {
      "cell_type": "code",
      "source": [
        "print(5 != 0)"
      ],
      "metadata": {
        "colab": {
          "base_uri": "https://localhost:8080/"
        },
        "id": "Viv7jD6oGouT",
        "outputId": "a8230660-e60d-41f7-89d5-399b5e9d81c5"
      },
      "execution_count": null,
      "outputs": [
        {
          "output_type": "stream",
          "name": "stdout",
          "text": [
            "True\n"
          ]
        }
      ]
    },
    {
      "cell_type": "code",
      "source": [
        "print(3 != 3)"
      ],
      "metadata": {
        "colab": {
          "base_uri": "https://localhost:8080/"
        },
        "id": "OYXUDy2oG06x",
        "outputId": "2dccb8cd-2242-4167-b358-e2dfbb1a0536"
      },
      "execution_count": null,
      "outputs": [
        {
          "output_type": "stream",
          "name": "stdout",
          "text": [
            "False\n"
          ]
        }
      ]
    },
    {
      "cell_type": "markdown",
      "source": [
        "we use the method shown above for not equal to"
      ],
      "metadata": {
        "id": "CVCY1v-1G7Ak"
      }
    },
    {
      "cell_type": "code",
      "source": [
        "weight1 = 20 # kg\n",
        "weight2 = 80 # kg\n",
        "height1 = 4 # feet\n",
        "height2 = 5 # feet\n",
        "print(weight1 + height1 == weight2 + height2) # the statement is false as weight 2 + height 2 is larger"
      ],
      "metadata": {
        "colab": {
          "base_uri": "https://localhost:8080/"
        },
        "id": "gwg6CiI1Hy6K",
        "outputId": "5911b42a-db66-48ee-e235-05966e1cd129"
      },
      "execution_count": null,
      "outputs": [
        {
          "output_type": "stream",
          "name": "stdout",
          "text": [
            "False\n"
          ]
        }
      ]
    },
    {
      "cell_type": "markdown",
      "source": [
        "# 8.and,not,or"
      ],
      "metadata": {
        "id": "T477g_boRghv"
      }
    },
    {
      "cell_type": "markdown",
      "source": [
        "\n",
        "\n",
        "` and`  only when both conditions in and it is true `(3 == 3) and (4 > 1)` `true`\n",
        "\n",
        "\n"
      ],
      "metadata": {
        "id": "B-5Y4RTaLTNV"
      }
    },
    {
      "cell_type": "markdown",
      "source": [
        "`or` even if one condition is correct it is true `(3 == 4) or (5 > 2)` ` true `\n",
        "\n",
        "\n",
        "\n",
        "\n"
      ],
      "metadata": {
        "id": "YQZWhbThNIAP"
      }
    },
    {
      "cell_type": "markdown",
      "source": [
        "`not`is used to show opposite value not `(4 > 5) ` [ is acclually true but ] output will be `false`"
      ],
      "metadata": {
        "id": "l8G3OAKGDSAm"
      }
    },
    {
      "cell_type": "code",
      "source": [
        "a = 3\n",
        "b = 6\n",
        "c = 12\n",
        "if b > a and c > b:\n",
        "  print(\"both statements are true\") # using and\n",
        "\n",
        "if b < a or c == c:\n",
        "  print(\"one statement is true\")  # using or\n",
        "\n",
        "if not (a > b):\n",
        "  print(\"a is not bigger than b\") # using not"
      ],
      "metadata": {
        "colab": {
          "base_uri": "https://localhost:8080/"
        },
        "id": "y7KwYM5rOUc3",
        "outputId": "89bd750e-a7ae-43c5-9e98-38f615ee8ca6"
      },
      "execution_count": 5,
      "outputs": [
        {
          "output_type": "stream",
          "name": "stdout",
          "text": [
            "both statements are true\n",
            "one statement is true\n",
            "a is not bigger than b\n"
          ]
        }
      ]
    },
    {
      "cell_type": "markdown",
      "source": [
        "# 9.else and elif"
      ],
      "metadata": {
        "id": "cMngCkmERsLj"
      }
    },
    {
      "cell_type": "markdown",
      "source": [
        "there are three basic python condititional statements` if else `and` elif`"
      ],
      "metadata": {
        "id": "A06sPkcPEn_z"
      }
    },
    {
      "cell_type": "code",
      "source": [
        "loan = input(\"enter your salary\")\n",
        "loan = str(loan)\n",
        "if int(loan) >= 25000:\n",
        "  print(\"you are eligible for loan\")\n",
        "else:\n",
        "  print(\"you are not eligible for loan\")"
      ],
      "metadata": {
        "colab": {
          "base_uri": "https://localhost:8080/"
        },
        "id": "qxw7YkGAFHBo",
        "outputId": "c9f2645a-b5bd-4a6a-d91c-9dc67f26b604"
      },
      "execution_count": 8,
      "outputs": [
        {
          "output_type": "stream",
          "name": "stdout",
          "text": [
            "enter your salary100000\n",
            "you are eligible for loan\n"
          ]
        }
      ]
    },
    {
      "cell_type": "markdown",
      "source": [
        "if conditional statement is not true then else gives output  "
      ],
      "metadata": {
        "id": "mjXiVbPeHbTv"
      }
    },
    {
      "cell_type": "code",
      "source": [
        "age = int(input(\"what is your age\"))\n",
        "\n",
        "if age >= 18:\n",
        "  print(\"you are an adult\")\n",
        "elif age >= 13:\n",
        "  print(\"you are a teenager\")\n",
        "else:\n",
        "  print(\"you are a child\")\n",
        ""
      ],
      "metadata": {
        "colab": {
          "base_uri": "https://localhost:8080/"
        },
        "id": "jR-oeyfGIS6J",
        "outputId": "df6f5983-1271-4d0c-f568-de6159777c8a"
      },
      "execution_count": 13,
      "outputs": [
        {
          "output_type": "stream",
          "name": "stdout",
          "text": [
            "what is your age 16\n",
            "you are a teenager\n"
          ]
        }
      ]
    },
    {
      "cell_type": "code",
      "source": [
        "marks = int(input(\"enter your marks\"))\n",
        "if marks == 100:\n",
        "  print(\"A+\")\n",
        "elif marks >= 90:\n",
        "  print(\"A\")\n",
        "elif marks >= 80:\n",
        "  print(\"B\")\n",
        "elif marks >= 70:\n",
        "  print(\"C\")\n",
        "elif marks >= 60:\n",
        "  print(\"D\")\n",
        "elif marks >= 51:\n",
        "  print(\"E\")\n",
        "elif marks == 50:\n",
        "  print(\"just passed\")\n",
        "elif marks >= 101:\n",
        "  print(\"you are lying\")\n",
        "else:\n",
        "  print(\"failed\")"
      ],
      "metadata": {
        "colab": {
          "base_uri": "https://localhost:8080/"
        },
        "id": "aqAkgmJBKwjd",
        "outputId": "849067c0-d497-4a6c-f2de-2f3eff928020"
      },
      "execution_count": 19,
      "outputs": [
        {
          "output_type": "stream",
          "name": "stdout",
          "text": [
            "enter your marks  100\n",
            "A+\n"
          ]
        }
      ]
    },
    {
      "cell_type": "markdown",
      "source": [
        "nesting means adding multiple if conditions"
      ],
      "metadata": {
        "id": "SxENP8VzPUBI"
      }
    }
  ]
}