{
  "nbformat": 4,
  "nbformat_minor": 0,
  "metadata": {
    "colab": {
      "provenance": [],
      "authorship_tag": "ABX9TyPvfvSbreA/QL/++l0eByOn",
      "include_colab_link": true
    },
    "kernelspec": {
      "name": "python3",
      "display_name": "Python 3"
    },
    "language_info": {
      "name": "python"
    }
  },
  "cells": [
    {
      "cell_type": "markdown",
      "metadata": {
        "id": "view-in-github",
        "colab_type": "text"
      },
      "source": [
        "<a href=\"https://colab.research.google.com/github/ronav06/python-learning-note-book/blob/main/Untitled0.ipynb\" target=\"_parent\"><img src=\"https://colab.research.google.com/assets/colab-badge.svg\" alt=\"Open In Colab\"/></a>"
      ]
    },
    {
      "cell_type": "code",
      "execution_count": 4,
      "metadata": {
        "id": "AaKJasywZ5_t",
        "colab": {
          "base_uri": "https://localhost:8080/"
        },
        "outputId": "f7e58220-1e90-4c3a-95fc-6bd2b55e439e"
      },
      "outputs": [
        {
          "output_type": "stream",
          "name": "stdout",
          "text": [
            "What is your name? ronav\n",
            "Hello, ronav!\n"
          ]
        }
      ],
      "source": [
        "\n",
        "\n",
        "name = input(\"What is your name? \")\n",
        "print(\"Hello, \" + name + \"!\")\n"
      ]
    },
    {
      "cell_type": "code",
      "source": [
        "'''\n",
        "text won't be exicuted\n",
        "'''\n",
        "a = 7\n",
        "a"
      ],
      "metadata": {
        "colab": {
          "base_uri": "https://localhost:8080/",
          "height": 200
        },
        "id": "5Qn19L806xFw",
        "outputId": "5fa88814-7948-4970-ccc3-2fb49c880f0c"
      },
      "execution_count": 5,
      "outputs": [
        {
          "output_type": "error",
          "ename": "NameError",
          "evalue": "name 'ban' is not defined",
          "traceback": [
            "\u001b[0;31m---------------------------------------------------------------------------\u001b[0m",
            "\u001b[0;31mNameError\u001b[0m                                 Traceback (most recent call last)",
            "\u001b[0;32m<ipython-input-5-8d3a22cc1562>\u001b[0m in \u001b[0;36m<cell line: 0>\u001b[0;34m()\u001b[0m\n\u001b[1;32m      2\u001b[0m \u001b[0mtext\u001b[0m \u001b[0mwon\u001b[0m\u001b[0;31m'\u001b[0m\u001b[0mt\u001b[0m \u001b[0mbe\u001b[0m \u001b[0mexicuted\u001b[0m\u001b[0;34m\u001b[0m\u001b[0;34m\u001b[0m\u001b[0m\n\u001b[1;32m      3\u001b[0m '''\n\u001b[0;32m----> 4\u001b[0;31m \u001b[0ma\u001b[0m \u001b[0;34m=\u001b[0m \u001b[0mban\u001b[0m\u001b[0;34m\u001b[0m\u001b[0;34m\u001b[0m\u001b[0m\n\u001b[0m\u001b[1;32m      5\u001b[0m \u001b[0ma\u001b[0m\u001b[0;34m\u001b[0m\u001b[0;34m\u001b[0m\u001b[0m\n",
            "\u001b[0;31mNameError\u001b[0m: name 'ban' is not defined"
          ]
        }
      ]
    },
    {
      "cell_type": "markdown",
      "source": [
        "text above  in ''' won't be exicuted as python dosn't allow when text is in ''' '''"
      ],
      "metadata": {
        "id": "tPbMtLZm7IPR"
      }
    },
    {
      "cell_type": "markdown",
      "source": [
        "**input** is used to display a question( \"What is your name? \")"
      ],
      "metadata": {
        "id": "vBaGGSg05oGE"
      }
    },
    {
      "cell_type": "code",
      "source": [
        "# this is a comment helps you understand a code"
      ],
      "metadata": {
        "id": "KOMyinz-4Sfy"
      },
      "execution_count": 1,
      "outputs": []
    },
    {
      "cell_type": "code",
      "source": [
        "\n",
        "print(\"Hello World\")\n"
      ],
      "metadata": {
        "colab": {
          "base_uri": "https://localhost:8080/"
        },
        "id": "VNILy-EGmYtq",
        "outputId": "26ddbf66-1237-4588-e866-c7c6beeb9c70"
      },
      "execution_count": 3,
      "outputs": [
        {
          "output_type": "stream",
          "name": "stdout",
          "text": [
            "Hello World\n"
          ]
        }
      ]
    },
    {
      "cell_type": "markdown",
      "source": [
        "**print** is used to show text"
      ],
      "metadata": {
        "id": "-rg-0p0d4sdY"
      }
    },
    {
      "cell_type": "markdown",
      "source": [
        "to add varibles you can do a = 5 (for example)"
      ],
      "metadata": {
        "id": "9mjJkBKJ8L3g"
      }
    }
  ]
}