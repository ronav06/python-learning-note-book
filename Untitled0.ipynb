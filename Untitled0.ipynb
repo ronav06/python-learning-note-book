{
  "nbformat": 4,
  "nbformat_minor": 0,
  "metadata": {
    "colab": {
      "provenance": [],
      "authorship_tag": "ABX9TyPE9AP5lUStdrFid/0mqFso",
      "include_colab_link": true
    },
    "kernelspec": {
      "name": "python3",
      "display_name": "Python 3"
    },
    "language_info": {
      "name": "python"
    }
  },
  "cells": [
    {
      "cell_type": "markdown",
      "metadata": {
        "id": "view-in-github",
        "colab_type": "text"
      },
      "source": [
        "<a href=\"https://colab.research.google.com/github/ronav06/python-learning-note-book/blob/main/Untitled0.ipynb\" target=\"_parent\"><img src=\"https://colab.research.google.com/assets/colab-badge.svg\" alt=\"Open In Colab\"/></a>"
      ]
    },
    {
      "cell_type": "code",
      "execution_count": null,
      "metadata": {
        "id": "AaKJasywZ5_t",
        "colab": {
          "base_uri": "https://localhost:8080/"
        },
        "outputId": "f7e58220-1e90-4c3a-95fc-6bd2b55e439e"
      },
      "outputs": [
        {
          "output_type": "stream",
          "name": "stdout",
          "text": [
            "What is your name? ronav\n",
            "Hello, ronav!\n"
          ]
        }
      ],
      "source": [
        "\n",
        "\n",
        "name = input(\"What is your name? \")\n",
        "print(\"Hello, \" + name + \"!\")\n"
      ]
    },
    {
      "cell_type": "code",
      "source": [
        "'''\n",
        "some text here\n",
        "'''"
      ],
      "metadata": {
        "id": "UpwY1I0wMzpv"
      },
      "execution_count": null,
      "outputs": []
    },
    {
      "cell_type": "markdown",
      "source": [
        "text above  in ''' won't be exicuted as python dosn't allow when text is in ''' '''"
      ],
      "metadata": {
        "id": "tPbMtLZm7IPR"
      }
    },
    {
      "cell_type": "markdown",
      "source": [
        "**input** is used to display a question( \"What is your name? \")"
      ],
      "metadata": {
        "id": "vBaGGSg05oGE"
      }
    },
    {
      "cell_type": "code",
      "source": [
        "# this is a comment helps you understand a code"
      ],
      "metadata": {
        "id": "KOMyinz-4Sfy"
      },
      "execution_count": null,
      "outputs": []
    },
    {
      "cell_type": "code",
      "source": [
        "\n",
        "print(\"Hello World\")\n"
      ],
      "metadata": {
        "colab": {
          "base_uri": "https://localhost:8080/"
        },
        "id": "VNILy-EGmYtq",
        "outputId": "26ddbf66-1237-4588-e866-c7c6beeb9c70"
      },
      "execution_count": null,
      "outputs": [
        {
          "output_type": "stream",
          "name": "stdout",
          "text": [
            "Hello World\n"
          ]
        }
      ]
    },
    {
      "cell_type": "markdown",
      "source": [
        "**print** is used to show text"
      ],
      "metadata": {
        "id": "-rg-0p0d4sdY"
      }
    },
    {
      "cell_type": "code",
      "source": [
        "a = 4\n",
        "a"
      ],
      "metadata": {
        "id": "AHh2tmigRU6g",
        "colab": {
          "base_uri": "https://localhost:8080/"
        },
        "outputId": "37ce6658-5d4a-4308-bb60-41492619fee7"
      },
      "execution_count": 2,
      "outputs": [
        {
          "output_type": "execute_result",
          "data": {
            "text/plain": [
              "4"
            ]
          },
          "metadata": {},
          "execution_count": 2
        }
      ]
    },
    {
      "cell_type": "markdown",
      "source": [
        "to add varibles you can do a = 5 (for example)"
      ],
      "metadata": {
        "id": "9mjJkBKJ8L3g"
      }
    },
    {
      "cell_type": "markdown",
      "source": [
        "once a **varible** is added you can use it in your code by using its name"
      ],
      "metadata": {
        "id": "izTeFo8sbypa"
      }
    },
    {
      "cell_type": "code",
      "source": [
        "name = \"Ronav\"\n",
        "age = 11\n",
        "height = 4.5\n",
        "print(age)     #answer is thirteen\n",
        "print(name)    #answer is ronav"
      ],
      "metadata": {
        "colab": {
          "base_uri": "https://localhost:8080/"
        },
        "id": "-dMhihnXcYUN",
        "outputId": "8b26bd3d-2a9a-40a2-bdab-8ddb2f51ad70"
      },
      "execution_count": 3,
      "outputs": [
        {
          "output_type": "stream",
          "name": "stdout",
          "text": [
            "11\n",
            "Ronav\n"
          ]
        }
      ]
    },
    {
      "cell_type": "markdown",
      "source": [
        "varible is used to store data,like shown above"
      ],
      "metadata": {
        "id": "sHkAIpsdc2VQ"
      }
    },
    {
      "cell_type": "code",
      "source": [],
      "metadata": {
        "id": "I6l_AycCe-Oh"
      },
      "execution_count": null,
      "outputs": []
    }
  ]
}