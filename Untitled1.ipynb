{
  "nbformat": 4,
  "nbformat_minor": 0,
  "metadata": {
    "colab": {
      "provenance": [],
      "toc_visible": true,
      "authorship_tag": "ABX9TyPoCkNY94nyiTbKtLZBKOOO",
      "include_colab_link": true
    },
    "kernelspec": {
      "name": "python3",
      "display_name": "Python 3"
    },
    "language_info": {
      "name": "python"
    }
  },
  "cells": [
    {
      "cell_type": "markdown",
      "metadata": {
        "id": "view-in-github",
        "colab_type": "text"
      },
      "source": [
        "<a href=\"https://colab.research.google.com/github/ronav06/python-learning-note-book/blob/main/Untitled1.ipynb\" target=\"_parent\"><img src=\"https://colab.research.google.com/assets/colab-badge.svg\" alt=\"Open In Colab\"/></a>"
      ]
    },
    {
      "cell_type": "markdown",
      "source": [
        "# ***NOTEBOOK 2***"
      ],
      "metadata": {
        "id": "jHdi4M3i4zHR"
      }
    },
    {
      "cell_type": "markdown",
      "source": [
        "# 1. listing"
      ],
      "metadata": {
        "id": "5NenIxCe5C3n"
      }
    },
    {
      "cell_type": "markdown",
      "source": [
        "in python lists are basicly varibles with multiple meanings\n",
        "\n",
        "\n"
      ],
      "metadata": {
        "id": "2vGvD4FO5PFP"
      }
    },
    {
      "cell_type": "code",
      "source": [
        "# list of integers\n",
        "numbers = [1,2,3]\n",
        "print(type(numbers))\n",
        "print(numbers)\n",
        "\n",
        "# list of strings\n",
        "fruits = ['apple', 'banana', 'orange']\n",
        "print(type(fruits))\n",
        "print(fruits)\n",
        "\n",
        "# list of floats\n",
        "piceses = [3.14, 2.718, 1.618]\n",
        "print(type(piceses))\n",
        "print(piceses)\n",
        "\n",
        "# list of mixed data types\n",
        "mixed_list = [1, 'apple', 3.14]\n",
        "print(type(mixed_list))\n",
        "print(mixed_list)\n",
        "\n",
        "# empty list\n",
        "empty_list = []\n",
        "print(type(empty_list))\n",
        "print(empty_list)"
      ],
      "metadata": {
        "colab": {
          "base_uri": "https://localhost:8080/"
        },
        "id": "sN7JNFEX7lOl",
        "outputId": "9a3a1b40-47c9-4ce4-c314-9a801389a1e9"
      },
      "execution_count": null,
      "outputs": [
        {
          "output_type": "stream",
          "name": "stdout",
          "text": [
            "<class 'list'>\n",
            "[1, 2, 3]\n",
            "<class 'list'>\n",
            "['apple', 'banana', 'orange']\n",
            "<class 'list'>\n",
            "[3.14, 2.718, 1.618]\n",
            "<class 'list'>\n",
            "[1, 'apple', 3.14]\n",
            "<class 'list'>\n",
            "[]\n"
          ]
        }
      ]
    },
    {
      "cell_type": "markdown",
      "source": [
        "# indexing lists"
      ],
      "metadata": {
        "id": "dbTrOnSf_yyG"
      }
    },
    {
      "cell_type": "markdown",
      "source": [
        "when we want to print only a part of a list we use indexing"
      ],
      "metadata": {
        "id": "Nu6xwckZ0iQi"
      }
    },
    {
      "cell_type": "code",
      "source": [
        "index = [1,2,3,4]\n",
        "print(index[0])\n",
        "print(index[1])\n",
        "print(index[2])\n",
        "print(index[3])"
      ],
      "metadata": {
        "id": "11awbw7h1DiT"
      },
      "execution_count": null,
      "outputs": []
    },
    {
      "cell_type": "markdown",
      "source": [
        "if we had written `print(index[4 or above])` we would get a message saying ERROR:..."
      ],
      "metadata": {
        "id": "AnAwSg6y125u"
      }
    },
    {
      "cell_type": "markdown",
      "source": [
        "we cannot index an empty list"
      ],
      "metadata": {
        "id": "i8T3Mjfg21Tt"
      }
    },
    {
      "cell_type": "markdown",
      "source": [
        "# list lenth"
      ],
      "metadata": {
        "id": "uL5_pY573kb9"
      }
    },
    {
      "cell_type": "markdown",
      "source": [
        "we can check the lenth of lists using `len`\n",
        "\n"
      ],
      "metadata": {
        "id": "-MEequJ43q6n"
      }
    },
    {
      "cell_type": "code",
      "source": [
        "lenght_list = ['a','b','c','d']\n",
        "print(type(lenght_list))\n",
        "print(len(lenght_list))\n",
        "print(lenght_list)"
      ],
      "metadata": {
        "colab": {
          "base_uri": "https://localhost:8080/"
        },
        "id": "fIwKacNA4hA5",
        "outputId": "16afba30-47cc-462f-b894-7ad92a286775"
      },
      "execution_count": null,
      "outputs": [
        {
          "output_type": "stream",
          "name": "stdout",
          "text": [
            "<class 'list'>\n",
            "4\n",
            "['a', 'b', 'c', 'd']\n"
          ]
        }
      ]
    },
    {
      "cell_type": "code",
      "source": [
        "sum_l = [1,2,3,4]\n",
        "print(sum_l)\n",
        "print(len(sum_l)-1)"
      ],
      "metadata": {
        "colab": {
          "base_uri": "https://localhost:8080/"
        },
        "id": "HhSgw-UG6jE7",
        "outputId": "bb5330c1-428d-4f20-c052-6554427b93c9"
      },
      "execution_count": null,
      "outputs": [
        {
          "output_type": "stream",
          "name": "stdout",
          "text": [
            "[1, 2, 3, 4]\n",
            "3\n"
          ]
        }
      ]
    },
    {
      "cell_type": "code",
      "source": [
        "sum_k = [1,2,3,4]\n",
        "print(sum_k)\n",
        "print(len(sum_k)+1)"
      ],
      "metadata": {
        "colab": {
          "base_uri": "https://localhost:8080/"
        },
        "id": "u7ZIkbA07AgR",
        "outputId": "dd5578cd-0467-4558-9aad-4b042313e5dd"
      },
      "execution_count": null,
      "outputs": [
        {
          "output_type": "stream",
          "name": "stdout",
          "text": [
            "[1, 2, 3, 4]\n",
            "11\n"
          ]
        }
      ]
    },
    {
      "cell_type": "markdown",
      "source": [
        "# slicing list"
      ],
      "metadata": {
        "id": "a5AYZEcH6Y8Q"
      }
    },
    {
      "cell_type": "markdown",
      "source": [
        "we slice a list to either ommit a part, print a particular part or start from a specific part so that we can access only a range of a full list"
      ],
      "metadata": {
        "id": "wFhvghvV7v9S"
      }
    },
    {
      "cell_type": "code",
      "source": [
        "numbers = [1,2,3,4,5,6,7,8,9,10]\n",
        "# output is 1,2,3,4,5\n",
        "print(numbers[1:5])\n",
        "# output is 1,2,3\n",
        "print(numbers[:3] )\n",
        "# output is 5,6,7,8,9,10\n",
        "print(numbers[5:])\n",
        "# output is 1,2,4,6,8 {skipping 1 number}\n",
        "print(numbers[1::2])\n",
        "\n"
      ],
      "metadata": {
        "id": "Ma5iZe8lne2D",
        "outputId": "819aa59a-a845-4c3b-be45-27d6ea8c996d",
        "colab": {
          "base_uri": "https://localhost:8080/"
        }
      },
      "execution_count": 5,
      "outputs": [
        {
          "output_type": "stream",
          "name": "stdout",
          "text": [
            "[2, 3, 4, 5]\n",
            "[1, 2, 3]\n",
            "[6, 7, 8, 9, 10]\n",
            "[2, 4, 6, 8, 10]\n"
          ]
        }
      ]
    },
    {
      "cell_type": "markdown",
      "source": [
        "# Modifyng lists"
      ],
      "metadata": {
        "id": "l3uX2qScq-2y"
      }
    },
    {
      "cell_type": "markdown",
      "source": [
        "if we want to change an item in a list then we can even after it was made\n",
        "\n"
      ],
      "metadata": {
        "id": "VDiQ6CHZrNKW"
      }
    }
  ]
}