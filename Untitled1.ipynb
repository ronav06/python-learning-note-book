{
  "nbformat": 4,
  "nbformat_minor": 0,
  "metadata": {
    "colab": {
      "provenance": [],
      "toc_visible": true,
      "authorship_tag": "ABX9TyPs61ZWxxk/CuUB/ITfsri/",
      "include_colab_link": true
    },
    "kernelspec": {
      "name": "python3",
      "display_name": "Python 3"
    },
    "language_info": {
      "name": "python"
    }
  },
  "cells": [
    {
      "cell_type": "markdown",
      "metadata": {
        "id": "view-in-github",
        "colab_type": "text"
      },
      "source": [
        "<a href=\"https://colab.research.google.com/github/ronav06/python-learning-note-book/blob/main/Untitled1.ipynb\" target=\"_parent\"><img src=\"https://colab.research.google.com/assets/colab-badge.svg\" alt=\"Open In Colab\"/></a>"
      ]
    },
    {
      "cell_type": "markdown",
      "source": [
        "# ***NOTEBOOK 2***"
      ],
      "metadata": {
        "id": "jHdi4M3i4zHR"
      }
    },
    {
      "cell_type": "markdown",
      "source": [
        "# 1. listing"
      ],
      "metadata": {
        "id": "5NenIxCe5C3n"
      }
    },
    {
      "cell_type": "markdown",
      "source": [
        "in python lists are basicly varibles with multiple meanings\n",
        "\n",
        "\n"
      ],
      "metadata": {
        "id": "2vGvD4FO5PFP"
      }
    },
    {
      "cell_type": "code",
      "source": [
        "# list of integers\n",
        "numbers = [1,2,3]\n",
        "print(type(numbers))\n",
        "print(numbers)\n",
        "\n",
        "# list of strings\n",
        "fruits = ['apple', 'banana', 'orange']\n",
        "print(type(fruits))\n",
        "print(fruits)\n",
        "\n",
        "# list of floats\n",
        "piceses = [3.14, 2.718, 1.618]\n",
        "print(type(piceses))\n",
        "print(piceses)\n",
        "\n",
        "# list of mixed data types\n",
        "mixed_list = [1, 'apple', 3.14]\n",
        "print(type(mixed_list))\n",
        "print(mixed_list)"
      ],
      "metadata": {
        "colab": {
          "base_uri": "https://localhost:8080/"
        },
        "id": "sN7JNFEX7lOl",
        "outputId": "40bb852f-48f2-4499-a536-e993b6be00f7"
      },
      "execution_count": 5,
      "outputs": [
        {
          "output_type": "stream",
          "name": "stdout",
          "text": [
            "<class 'list'>\n",
            "[1, 2, 3]\n",
            "<class 'list'>\n",
            "['apple', 'banana', 'orange']\n",
            "<class 'list'>\n",
            "[3.14, 2.718, 1.618]\n",
            "<class 'list'>\n",
            "[1, 'apple', 3.14]\n"
          ]
        }
      ]
    },
    {
      "cell_type": "markdown",
      "source": [
        "# indexing lists"
      ],
      "metadata": {
        "id": "dbTrOnSf_yyG"
      }
    }
  ]
}